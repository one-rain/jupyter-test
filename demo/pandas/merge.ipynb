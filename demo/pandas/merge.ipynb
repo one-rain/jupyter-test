{
 "cells": [
  {
   "cell_type": "code",
   "execution_count": 6,
   "metadata": {},
   "outputs": [
    {
     "name": "stdout",
     "output_type": "stream",
     "text": [
      "  \n",
      "============== merge ==============\n",
      "  \n",
      "   id name gender  age course  grade\n",
      "0  10   张三      男   23     英语     90\n",
      "1  10   张三      男   23     数学     89\n",
      "2  11   李四      女   24     语文     92\n",
      "3  11   李四      女   24     数学     72\n",
      "4  12   王五      男   23     英语     81\n",
      "5  12   王五      男   23    计算机     78\n",
      "6  13   马六      男   22     语文     91\n",
      "7  13   马六      男   22    计算机     92\n",
      "  \n",
      "============== left ==============\n",
      "  \n",
      "   id name gender  age course  grade\n",
      "0  10   张三      男   23     英语   90.0\n",
      "1  10   张三      男   23     数学   89.0\n",
      "2  11   李四      女   24     语文   92.0\n",
      "3  11   李四      女   24     数学   72.0\n",
      "4  12   王五      男   23     英语   81.0\n",
      "5  12   王五      男   23    计算机   78.0\n",
      "6  13   马六      男   22     语文   91.0\n",
      "7  13   马六      男   22    计算机   92.0\n",
      "8  14   七七      女   23    NaN    NaN\n",
      "   id name gender  age  uid course  grade\n",
      "0  10   张三      男   23   10     英语     90\n",
      "1  11   李四      女   24   10     数学     89\n",
      "2  12   王五      男   23   11     语文     92\n",
      "3  13   马六      男   22   11     数学     72\n",
      "4  14   七七      女   23   12     英语     81\n"
     ]
    }
   ],
   "source": [
    "%matplotlib inline \n",
    "import matplotlib.pyplot as plt\n",
    "import numpy as np\n",
    "import pandas as pd\n",
    "import decimal\n",
    "import sys\n",
    "import os\n",
    "\n",
    "\n",
    "data_left = {\"id\": [10, 11, 12, 13, 14],\n",
    "            \"name\": [\"张三\", \"李四\", \"王五\", \"马六\", \"七七\"],\n",
    "            \"gender\": [\"男\", \"女\", \"男\", \"男\", \"女\"],\n",
    "            \"age\": [23, 24, 23, 22, 23]}\n",
    "\n",
    "data_right = {\"id\": [10, 10, 11, 11, 12, 12, 13, 13, 15, 15],\n",
    "            \"course\": [\"英语\", \"数学\", \"语文\", \"数学\", \"英语\", \"计算机\", \"语文\", \"计算机\", \"统计学\", \"数学\"],\n",
    "            \"grade\": [90, 89, 92, 72, 81, 78, 91, 92, 84, 89]}\n",
    "\n",
    "\n",
    "def myprint(msg):\n",
    "    print(\"  \")\n",
    "    print(\"============== %s ==============\" % msg)\n",
    "    print(\"  \")\n",
    "\n",
    "\n",
    "def demo_merge():\n",
    "    df_left = pd.DataFrame(data_left)\n",
    "    df_right = pd.DataFrame(data_right)\n",
    "\n",
    "    myprint(\"merge\")\n",
    "    result = df_left.merge(df_right, how='inner', on='id')\n",
    "    #resut = pd.merge(df_left, df_right, on=['id', 'id'])\n",
    "    print(result)\n",
    "\n",
    "\n",
    "    myprint(\"left\")\n",
    "    result = pd.merge(df_left, df_right, how='left', on=['id', 'id'])\n",
    "    print(result)\n",
    "\n",
    "    # join不指定how时，默认为left，\n",
    "    # join是取行索引进行关联，如果2个df中有列名称相同将会报错，需要修改列名，或者采用merge\n",
    "    df_right.columns = ['uid', 'course', 'grade']\n",
    "    print(df_left.join(df_right))\n",
    "\n",
    "    #myprint(\"right\")\n",
    "    #result = pd.merge(df_left, df_right, how='right', on=['id', 'id'])\n",
    "    #print(result)\n",
    "\n",
    "    #myprint(\"outer\")\n",
    "    #result = pd.merge(df_left, df_right, how='outer', on=['id', 'id'])\n",
    "    #print(result)\n",
    "\n",
    "    #myprint(\"inner\")\n",
    "    #result = pd.merge(df_left, df_right, how='inner', on=['id', 'id'])\n",
    "    #print(result)\n",
    "\n",
    "    \n",
    "demo_merge()\n"
   ]
  }
 ],
 "metadata": {
  "kernelspec": {
   "display_name": "Python 3.9.11 64-bit",
   "language": "python",
   "name": "python3"
  },
  "language_info": {
   "codemirror_mode": {
    "name": "ipython",
    "version": 3
   },
   "file_extension": ".py",
   "mimetype": "text/x-python",
   "name": "python",
   "nbconvert_exporter": "python",
   "pygments_lexer": "ipython3",
   "version": "3.9.11"
  },
  "orig_nbformat": 4,
  "vscode": {
   "interpreter": {
    "hash": "21eeb8f6222bdb89299a6f828f28705ee2913d2e8fa467e32ca269c443e0d8dd"
   }
  }
 },
 "nbformat": 4,
 "nbformat_minor": 2
}
