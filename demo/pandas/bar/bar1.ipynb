{
 "cells": [
  {
   "cell_type": "code",
   "execution_count": null,
   "source": [
    "import plotly.express as px\n",
    "data_canada = px.data.gapminder().query(\"country == 'Canada'\")\n",
    "fig = px.bar(\n",
    "    data_canada, # 数据集\n",
    "    x='year', # x轴\n",
    "    y='pop', # y轴\n",
    ")\n",
    "fig.show()"
   ],
   "outputs": [],
   "metadata": {}
  },
  {
   "cell_type": "code",
   "execution_count": null,
   "source": [
    "import plotly.express as px\n",
    "\n",
    "long_df = px.data.medals_long()\n",
    "fig = px.bar(\n",
    "    long_df,  # 数据集\n",
    "    x=\"nation\",  # x轴\n",
    "    y=\"count\",  # y轴\n",
    "    color=\"medal\",  # 图例颜色（这种情况下需要设定该参数根据medal类型才区分，否则同色）\n",
    "    title=\"堆叠柱状图 Long-Form Input\", # 图表标题\n",
    ")\n",
    "fig.show()"
   ],
   "outputs": [],
   "metadata": {}
  },
  {
   "cell_type": "code",
   "execution_count": null,
   "source": [
    "import plotly.express as px\n",
    "\n",
    "wide_df = px.data.medals_wide()\n",
    "fig = px.bar(wide_df, x=\"nation\", \n",
    "             y=[\"gold\", \"silver\", \"bronze\"], \n",
    "             title=\"堆叠柱状图 Wide-Form Input\")\n",
    "fig.show()"
   ],
   "outputs": [],
   "metadata": {}
  },
  {
   "cell_type": "code",
   "execution_count": null,
   "source": [
    "# 簇状柱状图\n",
    "import plotly.express as px\n",
    "\n",
    "long_df = px.data.medals_long()\n",
    "fig = px.bar(\n",
    "    long_df,  \n",
    "    x=\"nation\",  \n",
    "    y=\"count\",  \n",
    "    color=\"medal\",  \n",
    "    title=\"簇状柱状图 Long-Form Input\", \n",
    "    barmode='group', # barmode 设置为 group则为簇状柱形图，可选 stack(叠加)、group(并列)、overlay(覆盖)、relative(相对)\n",
    ")\n",
    "fig.show() "
   ],
   "outputs": [],
   "metadata": {}
  },
  {
   "cell_type": "code",
   "execution_count": null,
   "source": [
    "# 类似于excel里柱状图填充色中依据数据点着色\n",
    "import plotly.express as px\n",
    "\n",
    "data = px.data.gapminder()\n",
    "data_canada = data[data.country == 'Canada']\n",
    "fig = px.bar(data_canada, x='year', y='pop',\n",
    "             hover_data=['lifeExp', 'gdpPercap'], \n",
    "             color='lifeExp', # 指定柱状图颜色根据 lifeExp字段数值大小自动着色\n",
    "             labels={'pop':'population of Canada'}, \n",
    "             height=400, # 图表高度\n",
    "            )\n",
    "fig.show()"
   ],
   "outputs": [],
   "metadata": {}
  }
 ],
 "metadata": {
  "orig_nbformat": 4,
  "language_info": {
   "name": "python",
   "version": "3.8.8",
   "mimetype": "text/x-python",
   "codemirror_mode": {
    "name": "ipython",
    "version": 3
   },
   "pygments_lexer": "ipython3",
   "nbconvert_exporter": "python",
   "file_extension": ".py"
  },
  "kernelspec": {
   "name": "python3",
   "display_name": "Python 3.8.8 64-bit ('base': conda)"
  },
  "interpreter": {
   "hash": "d001f9f6bbe9c72b73ec8f1147273505c2b9a823d50002fe074fa723ca99fac9"
  }
 },
 "nbformat": 4,
 "nbformat_minor": 2
}