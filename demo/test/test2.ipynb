{
 "metadata": {
  "language_info": {
   "codemirror_mode": {
    "name": "ipython",
    "version": 3
   },
   "file_extension": ".py",
   "mimetype": "text/x-python",
   "name": "python",
   "nbconvert_exporter": "python",
   "pygments_lexer": "ipython3",
   "version": "3.8.6-candidate"
  },
  "orig_nbformat": 2,
  "kernelspec": {
   "name": "Python 3.8.6 64-bit",
   "display_name": "Python 3.8.6 64-bit",
   "metadata": {
    "interpreter": {
     "hash": "303c080d287e220c3c63f906787cb9d85f6673d58f1005bd533e2199a877cb4d"
    }
   }
  }
 },
 "nbformat": 4,
 "nbformat_minor": 2,
 "cells": [
  {
   "source": [
    "计算。\n",
    "\n",
    "一般情况下，运算时排除缺失值。"
   ],
   "cell_type": "markdown",
   "metadata": {}
  },
  {
   "cell_type": "code",
   "execution_count": null,
   "metadata": {},
   "outputs": [],
   "source": [
    "import numpy as np\n",
    "import pandas as pd\n",
    "import sys\n",
    "import os\n",
    "\n",
    "current_directory = os.path.dirname(os.path.abspath('__file__'))\n",
    "root_path = os.path.abspath(os.path.dirname(current_directory) + os.path.sep + \".\")\n",
    "sys.path.append(root_path)\n",
    "\n",
    "from base import testBase as tb\n",
    "\n",
    "\n",
    "dates = pd.date_range('20130101', periods=6)\n",
    "df = pd.DataFrame(np.random.randn(6, 4), index=dates, columns=list('ABCD'))\n",
    "\n",
    "tb.myprint(\"原始数据\")\n",
    "print(df)\n",
    "\n",
    "tb.myprint(\"df.mean()等价于df.mean(0)。得到每列数据的平均值。\")\n",
    "print(df.mean())\n",
    "\n",
    "tb.myprint(\"df.mean(1)，得到每行数据的平均值。\")\n",
    "print(df.mean(1))\n",
    "\n",
    "\n",
    "tb.myprint(\"不同维度对象运算时，要先对齐，再计算。\")\n",
    "s = pd.Series([1, 3, 5, np.nan, 6, 8], index=dates).shift(2)\n",
    "print(s)\n",
    "tb.myprint(\"对齐后计算：加法：add，减法：sub，乘法：mul，除法：div。也可直接用运算符号计算\")\n",
    "print(df.sub(s, axis='index'))\n",
    "\n",
    "tb.myprint(\"apply() 函数可以作用于 Series 或者整个 DataFrame，功能也是自动遍历整个 Series 或者 DataFrame, 对每一个元素运行指定的函数。\")\n",
    "tb.myprint(\"计算每列最大值减去最小值\")\n",
    "print(df.apply(lambda x: x.max() - x.min()))\n",
    "\n"
   ]
  },
  {
   "cell_type": "code",
   "execution_count": null,
   "metadata": {},
   "outputs": [],
   "source": []
  }
 ]
}