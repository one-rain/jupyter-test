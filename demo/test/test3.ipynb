{
 "metadata": {
  "language_info": {
   "codemirror_mode": {
    "name": "ipython",
    "version": 3
   },
   "file_extension": ".py",
   "mimetype": "text/x-python",
   "name": "python",
   "nbconvert_exporter": "python",
   "pygments_lexer": "ipython3",
   "version": "3.8.1-final"
  },
  "orig_nbformat": 2,
  "kernelspec": {
   "name": "python3",
   "display_name": "Python 3.8.1 32-bit",
   "metadata": {
    "interpreter": {
     "hash": "8d7479a859c55414954af77e700e50514d78a6d4c3f36b05d2f880335fe633c1"
    }
   }
  }
 },
 "nbformat": 4,
 "nbformat_minor": 2,
 "cells": [
  {
   "source": [
    "Pandas 提供了多种将 Series、DataFrame 对象组合在一起的功能，用索引与关联代数功能的多种设置逻辑可执行连接（join）与合并（merge）操作。\n",
    "\n",
    "[Merge, join, concatenate and compare](https://pandas.pydata.org/pandas-docs/stable/user_guide/merging.html)\n",
    "\n",
    "## 合并"
   ],
   "cell_type": "markdown",
   "metadata": {}
  },
  {
   "cell_type": "code",
   "execution_count": null,
   "metadata": {},
   "outputs": [],
   "source": [
    "import numpy as np\n",
    "import pandas as pd\n",
    "import sys\n",
    "import os\n",
    "\n",
    "current_directory = os.path.dirname(os.path.abspath('__file__'))\n",
    "root_path = os.path.abspath(os.path.dirname(current_directory) + os.path.sep + \".\")\n",
    "sys.path.append(root_path)\n",
    "\n",
    "from base import testBase as tb\n",
    "df = pd.DataFrame(np.random.randn(10, 4))\n",
    "\n",
    "tb.myprint(\"原始数据\")\n",
    "print(df)\n",
    "\n",
    "# 分解为多组\n",
    "pieces = [df[:3], df[3:7], df[7:]]\n",
    "\n",
    "tb.myprint(\"Concat\")\n",
    "print(pd.concat(pieces))\n",
    "\n",
    "\n",
    "tb.myprint(\"join\")\n",
    "left = pd.DataFrame({'key': ['foo', 'foo'], 'lval': [1, 2]})\n",
    "right = pd.DataFrame({'key': ['foo', 'foo'], 'rval': [4, 5]})\n",
    "tb.myprint(\"left\")\n",
    "print(left)\n",
    "tb.myprint(\"right\")\n",
    "print(right)\n",
    "tb.myprint(\"join 后\")\n",
    "print(pd.merge(left, right, on='key'))\n",
    "\n",
    "\n",
    "tb.myprint(\"分组（Grouping）\")\n",
    "tb.myprint(\"按条件把数据分割成多组，为每组单独应用函数，将处理结果组合成一个数据结构\")\n",
    "\n",
    "df1 = pd.DataFrame({'A': ['foo', 'bar', 'foo', 'bar', 'foo', 'bar', 'foo', 'foo'],\n",
    "                    'B': ['one', 'one', 'two', 'three', 'two', 'two', 'one', 'three'],\n",
    "                    'C': np.random.randn(8),\n",
    "                    'D': np.random.randn(8)})\n",
    "\n",
    "print(df1)\n",
    "tb.myprint(\"按A列分组计算\")\n",
    "print(df.groupby('A').sum())\n",
    "\n"
   ]
  },
  {
   "cell_type": "code",
   "execution_count": null,
   "metadata": {},
   "outputs": [],
   "source": []
  }
 ]
}