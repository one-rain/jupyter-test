{
 "cells": [
  {
   "cell_type": "code",
   "execution_count": null,
   "source": [
    "# 在plotly绘图中，条形图与柱状图唯一的区别：在 Bar 函数中设置orientation='h'，其余参数与柱状图相同\n",
    "import plotly.express as px\n",
    "data = px.data.gapminder()\n",
    "\n",
    "data_canada = data[data.country == 'Canada']\n",
    "fig = px.bar(data_canada, y='year', x='pop',\n",
    "             hover_data=['lifeExp', 'gdpPercap'], \n",
    "             color='lifeExp', # 指定柱状图颜色根据 lifeExp字段数值大小自动着色\n",
    "             labels={'pop':'population of Canada'}, \n",
    "             height=600, # 图表高度\n",
    "             width=800, # 图表宽度\n",
    "             orientation='h' # 条形图设置参数\n",
    "            )\n",
    "fig.show()"
   ],
   "outputs": [],
   "metadata": {}
  }
 ],
 "metadata": {
  "orig_nbformat": 4,
  "language_info": {
   "name": "python",
   "version": "3.8.8",
   "mimetype": "text/x-python",
   "codemirror_mode": {
    "name": "ipython",
    "version": 3
   },
   "pygments_lexer": "ipython3",
   "nbconvert_exporter": "python",
   "file_extension": ".py"
  },
  "kernelspec": {
   "name": "python3",
   "display_name": "Python 3.8.8 64-bit ('base': conda)"
  },
  "interpreter": {
   "hash": "d001f9f6bbe9c72b73ec8f1147273505c2b9a823d50002fe074fa723ca99fac9"
  }
 },
 "nbformat": 4,
 "nbformat_minor": 2
}