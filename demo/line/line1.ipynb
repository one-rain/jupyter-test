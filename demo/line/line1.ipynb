{
 "cells": [
  {
   "cell_type": "code",
   "execution_count": null,
   "source": [
    "# 折线图\n",
    "import plotly.express as px\n",
    "\n",
    "df = px.data.gapminder().query(\"country=='Canada'\")\n",
    "fig = px.line(df, x=\"year\", y=\"lifeExp\", title='Life expectancy in Canada',\n",
    "              text='lifeExp', # 数据点显示值\n",
    "              line_shape='linear', # 共有6种插值方式：'linear'、'spline'、'hv'、'vh'、'hvh'和'vhv。\n",
    "             )\n",
    "fig.update_traces(\n",
    "    texttemplate='%{text:.2f}', # 数据点显示值的格式\n",
    "    textposition='top center', # 数据点显示的位置：'top left', 'top center', 'top right', 'middle left','middle center', 'middle right', 'bottom left', 'bottom center', 'bottom right'\n",
    ") \n",
    "fig.show()"
   ],
   "outputs": [],
   "metadata": {}
  },
  {
   "cell_type": "code",
   "execution_count": null,
   "source": [
    "# 多折线图\n",
    "import plotly.express as px\n",
    "\n",
    "# 比如绘制大洋洲（有澳大利亚和新西兰）\n",
    "df = px.data.gapminder().query(\"continent=='Oceania'\")\n",
    "fig = px.line(df, x=\"year\", y=\"lifeExp\", \n",
    "              color='country', # 按照国家区分\n",
    "             )\n",
    "fig.show()"
   ],
   "outputs": [],
   "metadata": {}
  },
  {
   "cell_type": "code",
   "execution_count": null,
   "source": [
    "import plotly.express as px\n",
    "\n",
    "# 比如绘制大洋洲（有澳大利亚和新西兰）\n",
    "df = px.data.gapminder().query(\"continent=='Oceania'\")\n",
    "fig = px.area(df, x=\"year\", y=\"pop\", \n",
    "              color='country', # 按照国家区分\n",
    "             )\n",
    "fig.show()"
   ],
   "outputs": [],
   "metadata": {}
  }
 ],
 "metadata": {
  "orig_nbformat": 4,
  "language_info": {
   "name": "python",
   "version": "3.8.8",
   "mimetype": "text/x-python",
   "codemirror_mode": {
    "name": "ipython",
    "version": 3
   },
   "pygments_lexer": "ipython3",
   "nbconvert_exporter": "python",
   "file_extension": ".py"
  },
  "kernelspec": {
   "name": "python3",
   "display_name": "Python 3.8.8 64-bit ('base': conda)"
  },
  "interpreter": {
   "hash": "d001f9f6bbe9c72b73ec8f1147273505c2b9a823d50002fe074fa723ca99fac9"
  }
 },
 "nbformat": 4,
 "nbformat_minor": 2
}