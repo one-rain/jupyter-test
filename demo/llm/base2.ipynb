{
 "cells": [
  {
   "cell_type": "markdown",
   "id": "fc8e7a68",
   "metadata": {},
   "source": [
    "RAG第一步是加载本地数据。可以加载处理很多种文件。\n",
    "下面以CSV为例说明。"
   ]
  },
  {
   "cell_type": "code",
   "execution_count": null,
   "id": "bd2401c6",
   "metadata": {},
   "outputs": [],
   "source": [
    "from pathlib import Path\n",
    "from langchain_community.document_loaders.csv_loader import CSVLoader\n",
    "from langchain_community.document_loaders import DirectoryLoader\n",
    "\n",
    "home_directory = str(Path.home())\n",
    "file_path = f\"{home_directory}/Documents/Data/order_202505.csv\"\n",
    "\n",
    "# 加载目录中的所有文档\n",
    "# loader = DirectoryLoader('../', glob=\"**/*.md\")\n",
    "# 多线程加载\n",
    "# loader = DirectoryLoader('../', glob=\"**/*.md\", use_multithreading=True)\n",
    "\n",
    "loader = CSVLoader(\n",
    "    file_path=file_path,\n",
    "    csv_args={\n",
    "        \"delimiter\": \",\", # 分隔符\n",
    "        \"quotechar\": '\"', # 引号字符：用于引用包含特殊字符的字段的单字符字符串，如定界符或者quotechar，或者包含换行符。它默认为'\"'\n",
    "        \"fieldnames\": [\"订单ID\", \"用户ID\", \"下单时间\", \"支付时间\", \"支付金额\", \"设备类型\", \"支付方式\", \"产品ID\", \"产品名称\", \"自动续费\", \"会员类型\"],\n",
    "    },\n",
    "    source_column=\"订单ID\" # 为每一行创建的文档指定一个源，如果不制定，默认会将file_path作为source_column\n",
    "    )\n",
    "docs = loader.load()\n",
    "# 懒惰加载\n",
    "# docs_lazy = loader.lazy_load()\n",
    "\n",
    "for record in docs[:2]:\n",
    "    print(record)"
   ]
  },
  {
   "cell_type": "markdown",
   "id": "03b50974",
   "metadata": {},
   "source": [
    "还可以对text、html、json、pdf、word等内容加载"
   ]
  },
  {
   "cell_type": "code",
   "execution_count": null,
   "id": "442e5d40",
   "metadata": {},
   "outputs": [],
   "source": [
    "from langchain_community.document_loaders import UnstructuredHTMLLoader\n",
    "from langchain_community.document_loaders import BSHTMLLoader\n",
    "\n",
    "loader = UnstructuredHTMLLoader(\"example_data/fake-content.html\")\n",
    "# 使用 BeautifulSoup4 使用加载HTML文档 BSHTMLLoader 。这将把文本从HTML提取到page_content，页面标题为title到…里面metadata\n",
    "# loader = BSHTMLLoader(\"example_data/fake-content.html\")\n",
    "\n",
    "data = loader.load()\n",
    "\n",
    "print(data)"
   ]
  },
  {
   "cell_type": "code",
   "execution_count": null,
   "id": "fb5d1fec",
   "metadata": {},
   "outputs": [],
   "source": [
    "from langchain_community.document_loaders import JSONLoader\n",
    "\n",
    "loader = JSONLoader(\n",
    "    file_path=file_path,\n",
    "    jq_schema='.messages[].content',\n",
    "    text_content=False)\n",
    "\n",
    "# 使用jq模式中的content_key从JSON文件加载文档\n",
    "loader = JSONLoader(\n",
    "    file_path=file_path,\n",
    "    jq_schema=\".data[]\",\n",
    "    content_key=\".attributes.message\",\n",
    "    is_content_key_jq_parsable=True,\n",
    ")\n",
    "\n",
    "data = loader.load()\n",
    "\n",
    "print(data)\n",
    "\n",
    "\n",
    "\n",
    "\n"
   ]
  }
 ],
 "metadata": {
  "kernelspec": {
   "display_name": "llms",
   "language": "python",
   "name": "python3"
  },
  "language_info": {
   "codemirror_mode": {
    "name": "ipython",
    "version": 3
   },
   "file_extension": ".py",
   "mimetype": "text/x-python",
   "name": "python",
   "nbconvert_exporter": "python",
   "pygments_lexer": "ipython3",
   "version": "3.11.12"
  }
 },
 "nbformat": 4,
 "nbformat_minor": 5
}
