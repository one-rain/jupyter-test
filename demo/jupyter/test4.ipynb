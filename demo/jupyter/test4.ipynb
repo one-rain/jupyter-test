{
 "metadata": {
  "language_info": {
   "codemirror_mode": {
    "name": "ipython",
    "version": 3
   },
   "file_extension": ".py",
   "mimetype": "text/x-python",
   "name": "python",
   "nbconvert_exporter": "python",
   "pygments_lexer": "ipython3",
   "version": "3.8.6-candidate"
  },
  "orig_nbformat": 2,
  "kernelspec": {
   "name": "Python 3.8.6 64-bit",
   "display_name": "Python 3.8.6 64-bit",
   "metadata": {
    "interpreter": {
     "hash": "303c080d287e220c3c63f906787cb9d85f6673d58f1005bd533e2199a877cb4d"
    }
   }
  }
 },
 "nbformat": 4,
 "nbformat_minor": 2,
 "cells": [
  {
   "source": [
    "重塑\n",
    "\n",
    "## 堆叠（Stack）"
   ],
   "cell_type": "markdown",
   "metadata": {}
  },
  {
   "cell_type": "code",
   "execution_count": 5,
   "metadata": {},
   "outputs": [
    {
     "output_type": "stream",
     "name": "stdout",
     "text": [
      "  \n============== 原始数据 ==============\n  \n                     A         B\nfirst second                    \nbar   one    -0.676731 -0.116765\n      two    -1.035696  1.537872\nbaz   one    -2.134723  0.767291\n      two    -1.171858  0.896537\n  \n============== stack()方法把 DataFrame 列压缩至一层 ==============\n  \nfirst  second   \nbar    one     A   -0.676731\n               B   -0.116765\n       two     A   -1.035696\n               B    1.537872\nbaz    one     A   -2.134723\n               B    0.767291\n       two     A   -1.171858\n               B    0.896537\ndtype: float64\n  \n============== unstack()方法拆叠最后一层，是stack() 的逆操作 ==============\n  \n                     A         B\nfirst second                    \nbar   one    -0.676731 -0.116765\n      two    -1.035696  1.537872\nbaz   one    -2.134723  0.767291\n      two    -1.171858  0.896537\n  \n============== 指定折叠层 ==============\n  \nsecond        one       two\nfirst                      \nbar   A -0.676731 -1.035696\n      B -0.116765  1.537872\nbaz   A -2.134723 -1.171858\n      B  0.767291  0.896537\n"
     ]
    }
   ],
   "source": [
    "import numpy as np\n",
    "import pandas as pd\n",
    "import sys\n",
    "import os\n",
    "\n",
    "current_directory = os.path.dirname(os.path.abspath('__file__'))\n",
    "root_path = os.path.abspath(os.path.dirname(current_directory) + os.path.sep + \".\")\n",
    "sys.path.append(root_path)\n",
    "\n",
    "from base import testBase as tb\n",
    "\n",
    "tuples = list(zip(*[['bar', 'bar', 'baz', 'baz','foo', 'foo', 'qux', 'qux'], ['one', 'two', 'one', 'two', 'one', 'two', 'one', 'two']]))\n",
    "\n",
    "index = pd.MultiIndex.from_tuples(tuples, names=['first', 'second'])\n",
    "df = pd.DataFrame(np.random.randn(8, 2), index=index, columns=['A', 'B'])\n",
    "df2 = df[:4]\n",
    "\n",
    "tb.myprint(\"原始数据\")\n",
    "print(df2)\n",
    "\n",
    "tb.myprint(\"stack()方法把 DataFrame 列压缩至一层\")\n",
    "stacked = df2.stack()\n",
    "print(stacked)\n",
    "\n",
    "tb.myprint(\"unstack()方法拆叠最后一层，是stack() 的逆操作\")\n",
    "print(stacked.unstack())\n",
    "\n",
    "tb.myprint(\"指定折叠层\")\n",
    "print(stacked.unstack(1))\n",
    "\n",
    "\n"
   ]
  },
  {
   "cell_type": "code",
   "execution_count": null,
   "metadata": {},
   "outputs": [],
   "source": []
  }
 ]
}