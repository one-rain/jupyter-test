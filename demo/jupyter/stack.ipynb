{
 "cells": [
  {
   "cell_type": "markdown",
   "metadata": {},
   "source": [
    "## 堆叠（Stack）\n",
    "\n",
    "stack的意思是堆叠，堆积。 unstack就是不堆叠。\n",
    "\n",
    "数据的层次化结构有两种，一种是行式表格（unstack），一种是列式表格(stack)。\n",
    "\n",
    "![stack与unstack](../../images/pandas_stack.png)\n",
    "\n",
    "[DataFrame with Pandas stack() and unstack()](https://towardsdatascience.com/reshaping-a-dataframe-with-pandas-stack-and-unstack-925dc9ce1289)"
   ]
  },
  {
   "cell_type": "code",
   "execution_count": null,
   "metadata": {},
   "outputs": [],
   "source": [
    "import numpy as np\n",
    "import pandas as pd\n",
    "import sys\n",
    "import os\n",
    "\n",
    "current_directory = os.path.dirname(os.path.abspath('__file__'))\n",
    "root_path = os.path.abspath(os.path.dirname(current_directory) + os.path.sep + \".\")\n",
    "sys.path.append(root_path)\n",
    "\n",
    "\n",
    "def myprint(msg):\n",
    "    print(\"  \")\n",
    "    print(\"============== %s ==============\" % msg)\n",
    "    print(\"  \")\n",
    "\n",
    "\n",
    "def demo1():\n",
    "    df_single_level = pd.DataFrame([['Mostly cloudy', 10], ['Sunny', 12]], index=['London', 'Oxford'], columns=['Weather', 'Wind'])\n",
    "    print(df_single_level.stack())\n",
    "\n",
    "\n",
    "def demo2():\n",
    "    tuples = list(zip(*[['bar', 'bar', 'baz', 'baz','foo', 'foo', 'qux', 'qux'], ['one', 'two', 'one', 'two', 'one', 'two', 'one', 'two']]))\n",
    "\n",
    "    index = pd.MultiIndex.from_tuples(tuples, names=['first', 'second'])\n",
    "    df = pd.DataFrame(np.random.randn(8, 2), index=index, columns=['A', 'B'])\n",
    "    df2 = df[:4]\n",
    "\n",
    "    myprint(\"原始数据\")\n",
    "    print(df2)\n",
    "\n",
    "    myprint(\"stack()方法把 DataFrame 列压缩至一层\")\n",
    "    stacked = df2.stack()\n",
    "    print(stacked)\n",
    "\n",
    "    myprint(\"unstack()方法拆叠最后一层，是stack() 的逆操作\")\n",
    "    print(stacked.unstack())\n",
    "\n",
    "    myprint(\"指定折叠层\")\n",
    "    print(stacked.unstack(1))\n",
    "\n",
    "\n",
    "demo1()"
   ]
  },
  {
   "cell_type": "code",
   "execution_count": null,
   "metadata": {},
   "outputs": [],
   "source": []
  }
 ],
 "metadata": {
  "kernelspec": {
   "display_name": "Python 3.9.11 64-bit",
   "language": "python",
   "name": "python3"
  },
  "language_info": {
   "codemirror_mode": {
    "name": "ipython",
    "version": 3
   },
   "file_extension": ".py",
   "mimetype": "text/x-python",
   "name": "python",
   "nbconvert_exporter": "python",
   "pygments_lexer": "ipython3",
   "version": "3.9.11"
  },
  "orig_nbformat": 2,
  "vscode": {
   "interpreter": {
    "hash": "21eeb8f6222bdb89299a6f828f28705ee2913d2e8fa467e32ca269c443e0d8dd"
   }
  }
 },
 "nbformat": 4,
 "nbformat_minor": 2
}
