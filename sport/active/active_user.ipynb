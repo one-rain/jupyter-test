{
 "cells": [
  {
   "cell_type": "markdown",
   "metadata": {},
   "source": [
    "## 数据对比\n",
    "看看"
   ]
  },
  {
   "cell_type": "code",
   "execution_count": null,
   "metadata": {},
   "outputs": [],
   "source": [
    "import numpy as np\n",
    "import pandas as pd\n",
    "from pyhive import presto\n",
    "\n",
    "presto_conn = presto.connect(\n",
    "    host = 'emr-bi',\n",
    "    port = 9090,\n",
    "    catalog='hive',\n",
    "    schema='default'\n",
    ")\n",
    "\n",
    "conn = presto_conn.cursor()\n",
    "hql = '''\n",
    "    select\n",
    "        dt,\n",
    "        app_version,\n",
    "        count(distinct device_id) as dau1,\n",
    "        count(distinct device_id2) as dau2,\n",
    "        count(distinct if(is_new_device2=-1, device_id, null)) as u3,\n",
    "        count(distinct if(is_new_device2=-1 and launch_type=1, device_id, null)) as u4\n",
    "    from \n",
    "        (select\n",
    "            dt,\n",
    "            device_id,\n",
    "            device_id2,\n",
    "            is_new_device2,\n",
    "            launch_type,\n",
    "            (case \n",
    "                when app_version>='9.2.4' then '9.2.4+'\n",
    "                when app_version is null or app_version='' then ''\n",
    "                when app_version<'9.2.4' then '9.2.4-'\n",
    "                else app_version\n",
    "            end) as app_version\n",
    "        from bi_dwm.dwm_xinai_device_info_dd\n",
    "        where dt>='2022-03-01' and dt<='2022-03-15' and plat='app' and os='Android'\n",
    "        ) as a\n",
    "    where a.app_version!=''\n",
    "    group by dt, app_version\n",
    "    order by dt\n",
    "'''\n",
    "conn.execute(hql)\n",
    "data = conn.fetchall()\n",
    "df = pd.DataFrame(np.random.randn(10, 2)*100)\n",
    "df.columns = ['日期', '版本', '新DAU', '旧DAU', '', '', '', '']"
   ]
  }
 ],
 "metadata": {
  "interpreter": {
   "hash": "67672a482fa982893ed0a8f450b84708ad9620e3b2b98d2dd3c037378c751a22"
  },
  "kernelspec": {
   "display_name": "Python 3.9.5 64-bit",
   "language": "python",
   "name": "python3"
  },
  "language_info": {
   "codemirror_mode": {
    "name": "ipython",
    "version": 3
   },
   "file_extension": ".py",
   "mimetype": "text/x-python",
   "name": "python",
   "nbconvert_exporter": "python",
   "pygments_lexer": "ipython3",
   "version": "3.9.5"
  },
  "orig_nbformat": 4
 },
 "nbformat": 4,
 "nbformat_minor": 2
}
