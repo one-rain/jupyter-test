{
 "cells": [
  {
   "cell_type": "code",
   "execution_count": null,
   "metadata": {},
   "outputs": [],
   "source": [
    "%matplotlib inline \n",
    "import matplotlib.pyplot as plt\n",
    "import numpy as np\n",
    "import pandas as pd\n",
    "import decimal\n",
    "import sys\n",
    "import os\n",
    "\n",
    "#current_directory = os.path.dirname(os.path.abspath('__file__'))\n",
    "#root_path = os.path.abspath(os.path.dirname(current_directory) + os.path.sep + \".\")\n",
    "#sys.path.append(root_path)\n",
    "\n",
    "def myprint(msg):\n",
    "    print(\"  \")\n",
    "    print(\"============== %s ==============\" % msg)\n",
    "    print(\"  \")\n",
    "\n",
    "\n",
    "def do_1():\n",
    "    # names=['赛季', '站点', '用户', '支付金额', '联赛类型', '订单状态']\n",
    "    # dtype={'y': np.int64, 'm': np.int64, 'season': np.object, 'company': np.object, 'user_id': np.object, 'pay_amount': np.float64, 'league_type_name': np.object, 'order_status': np.object},\n",
    "    \n",
    "    pd.set_option('display.max_columns', 1000)\n",
    "    pd.set_option('display.width', 1000)\n",
    "    pd.set_option('display.max_colwidth', 1000)\n",
    "    # pd.set_option('display.unicode.ambiguous_as_wide', True)\n",
    "    pd.set_option('display.unicode.east_asian_width', True)\n",
    "\n",
    "    myprint(\"load pingback\")\n",
    "    df1 = pd.read_excel(r'D:\\data\\sport\\iqiyi_pingback.xls', 'Sheet1', keep_default_na = False)\n",
    "\n",
    "    df1['plat'] = df1['plat'].map(lambda e: str.lower(e))\n",
    "    df1['page_code'] = df1['page_code'].map(lambda e: e.strip('_').strip('.'))\n",
    "    # df1['block_code'] = df1['block_code'].map(lambda e: e.strip('_').strip('.'))\n",
    "    print(df1)\n",
    "    \n",
    "    # write file.\n",
    "    # df1.to_csv('D:\\data\\sport\\iqiyi_pingback.txt', sep = '\\t', index = False, encoding='UTF-8')\n",
    "\n",
    "    grouped = df1.loc[df1['plat']=='app'].groupby(['plat', 'os', 'page_code', 'page_name']).groups\n",
    "    pages = [] * 4\n",
    "    for k, v in grouped.items():\n",
    "        pages.append(list(k))\n",
    "    \n",
    "    # print(pages)\n",
    "    df_page = pd.DataFrame(pages, columns = ['plat', 'os', 'page_code', 'page_name'])\n",
    "    # print(df_page)\n",
    "    \n",
    "\n",
    "    myprint(\"load iqiyi data\")\n",
    "\n",
    "    df2 = pd.read_excel(r'D:\\data\\sport\\xinying_page_block_0620_0626.xls', 'iqiyi_log', keep_default_na = False, \n",
    "        usecols = ['dt', 'os', 'page', 'event', 'cnt', 'user_cnt'])\n",
    "    df2.loc[df2['event']=='page_show']\n",
    "    # print(df2)\n",
    "\n",
    "    df3 = pd.read_excel(r'D:\\data\\sport\\xinying_page_block_0620_0626.xls', 'iqiyi_bi', keep_default_na = False, \n",
    "        usecols = ['dt', 'os', 'page', 'cnt', 'user_cnt'])\n",
    "    # print(df3)\n",
    "    \n",
    "\n",
    "\n",
    "# https://blog.csdn.net/stevenkwong/article/details/52540605\n",
    "do_1()"
   ]
  }
 ],
 "metadata": {
  "kernelspec": {
   "display_name": "Python 3.9.11 64-bit",
   "language": "python",
   "name": "python3"
  },
  "language_info": {
   "codemirror_mode": {
    "name": "ipython",
    "version": 3
   },
   "file_extension": ".py",
   "mimetype": "text/x-python",
   "name": "python",
   "nbconvert_exporter": "python",
   "pygments_lexer": "ipython3",
   "version": "3.9.11"
  },
  "orig_nbformat": 4,
  "vscode": {
   "interpreter": {
    "hash": "21eeb8f6222bdb89299a6f828f28705ee2913d2e8fa467e32ca269c443e0d8dd"
   }
  }
 },
 "nbformat": 4,
 "nbformat_minor": 2
}
