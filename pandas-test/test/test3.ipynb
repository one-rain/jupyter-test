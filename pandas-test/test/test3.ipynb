{
 "metadata": {
  "language_info": {
   "codemirror_mode": {
    "name": "ipython",
    "version": 3
   },
   "file_extension": ".py",
   "mimetype": "text/x-python",
   "name": "python",
   "nbconvert_exporter": "python",
   "pygments_lexer": "ipython3",
   "version": "3.8.6-candidate"
  },
  "orig_nbformat": 2,
  "kernelspec": {
   "name": "Python 3.8.6 64-bit",
   "display_name": "Python 3.8.6 64-bit",
   "metadata": {
    "interpreter": {
     "hash": "303c080d287e220c3c63f906787cb9d85f6673d58f1005bd533e2199a877cb4d"
    }
   }
  }
 },
 "nbformat": 4,
 "nbformat_minor": 2,
 "cells": [
  {
   "source": [
    "Pandas 提供了多种将 Series、DataFrame 对象组合在一起的功能，用索引与关联代数功能的多种设置逻辑可执行连接（join）与合并（merge）操作。\n",
    "\n",
    "[Merge, join, concatenate and compare](https://pandas.pydata.org/pandas-docs/stable/user_guide/merging.html)\n",
    "\n",
    "## 合并"
   ],
   "cell_type": "markdown",
   "metadata": {}
  },
  {
   "cell_type": "code",
   "execution_count": 1,
   "metadata": {},
   "outputs": [
    {
     "output_type": "stream",
     "name": "stdout",
     "text": [
      "  \n============== 原始数据 ==============\n  \n          0         1         2         3\n0 -2.073464  0.944553  1.218224  2.550706\n1 -0.730779  0.044532  0.659287 -0.470215\n2  0.624766  0.238691 -1.010957 -1.095796\n3 -0.447499  0.706678 -1.855063  1.250786\n4 -0.140297  1.065764 -0.666139 -0.920517\n5 -0.928625  1.839656 -1.071797  1.933501\n6 -2.048592  0.091281 -0.088095 -0.750147\n7 -1.706948  0.953560 -1.025268 -0.455909\n8 -1.450648 -1.082199 -1.038885 -1.087418\n9  0.977765  0.652507  0.639915 -0.364885\n          0         1         2         3\n0 -2.073464  0.944553  1.218224  2.550706\n1 -0.730779  0.044532  0.659287 -0.470215\n2  0.624766  0.238691 -1.010957 -1.095796\n3 -0.447499  0.706678 -1.855063  1.250786\n4 -0.140297  1.065764 -0.666139 -0.920517\n5 -0.928625  1.839656 -1.071797  1.933501\n6 -2.048592  0.091281 -0.088095 -0.750147\n7 -1.706948  0.953560 -1.025268 -0.455909\n8 -1.450648 -1.082199 -1.038885 -1.087418\n9  0.977765  0.652507  0.639915 -0.364885\n"
     ]
    }
   ],
   "source": [
    "import numpy as np\n",
    "import pandas as pd\n",
    "import testBase as tb\n",
    "\n",
    "df = pd.DataFrame(np.random.randn(10, 4))\n",
    "\n",
    "tb.myprint(\"原始数据\")\n",
    "print(df)\n",
    "\n",
    "# 分解为多组\n",
    "pieces = [df[:3], df[3:7], df[7:]]\n",
    "\n",
    "tb.myprint(\"Concat\")\n",
    "print(pd.concat(pieces))\n",
    "\n",
    "\n",
    "tb.myprint(\"join\")\n",
    "left = pd.DataFrame({'key': ['foo', 'foo'], 'lval': [1, 2]})\n",
    "right = pd.DataFrame({'key': ['foo', 'foo'], 'rval': [4, 5]})\n",
    "tb.myprint(\"left\")\n",
    "print(left)\n",
    "tb.myprint(\"right\")\n",
    "print(right)\n",
    "tb.myprint(\"join 后\")\n",
    "print(pd.merge(left, right, on='key'))\n",
    "\n",
    "\n",
    "tb.myprint(\"分组（Grouping）\")\n",
    "tb.myprint(\"按条件把数据分割成多组，为每组单独应用函数，将处理结果组合成一个数据结构\")\n",
    "\n",
    "df1 = pd.DataFrame({'A': ['foo', 'bar', 'foo', 'bar', 'foo', 'bar', 'foo', 'foo'],\n",
    "                    'B': ['one', 'one', 'two', 'three', 'two', 'two', 'one', 'three'],\n",
    "                    'C': np.random.randn(8),\n",
    "                    'D': np.random.randn(8)})\n",
    "\n",
    "print(df1)\n",
    "tb.myprint(\"按A列分组计算\")\n",
    "print(df.groupby('A').sum())\n",
    "\n"
   ]
  },
  {
   "cell_type": "code",
   "execution_count": null,
   "metadata": {},
   "outputs": [],
   "source": []
  }
 ]
}