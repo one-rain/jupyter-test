{
 "metadata": {
  "language_info": {
   "codemirror_mode": {
    "name": "ipython",
    "version": 3
   },
   "file_extension": ".py",
   "mimetype": "text/x-python",
   "name": "python",
   "nbconvert_exporter": "python",
   "pygments_lexer": "ipython3",
   "version": "3.8.6-candidate"
  },
  "orig_nbformat": 2,
  "kernelspec": {
   "name": "Python 3.8.6 64-bit",
   "display_name": "Python 3.8.6 64-bit",
   "metadata": {
    "interpreter": {
     "hash": "303c080d287e220c3c63f906787cb9d85f6673d58f1005bd533e2199a877cb4d"
    }
   }
  }
 },
 "nbformat": 4,
 "nbformat_minor": 2,
 "cells": [
  {
   "source": [
    "数据透视表\n",
    "\n"
   ],
   "cell_type": "markdown",
   "metadata": {}
  },
  {
   "cell_type": "code",
   "execution_count": 2,
   "metadata": {},
   "outputs": [
    {
     "output_type": "stream",
     "name": "stdout",
     "text": [
      "  \n============== 原数据 ==============\n  \n        A  B    C         D         E\n0     one  A  foo -0.081799  1.151424\n1     one  B  foo  0.390098 -0.916107\n2     two  C  foo  1.877145  0.889126\n3   three  A  bar -0.618528 -1.185236\n4     one  B  bar -0.751841  1.466932\n5     one  C  bar  2.557883 -0.679599\n6     two  A  foo -0.800850  0.192531\n7   three  B  foo  0.198194  0.537967\n8     one  C  foo -1.072766 -0.948984\n9     one  A  bar  0.125151  1.216867\n10    two  B  bar  0.438956  0.202011\n11  three  C  bar -0.841579  0.202607\n  \n============== 透视数据 ==============\n  \n"
     ]
    },
    {
     "output_type": "execute_result",
     "data": {
      "text/plain": [
       "C             bar       foo\n",
       "A     B                    \n",
       "one   A  0.125151 -0.081799\n",
       "      B -0.751841  0.390098\n",
       "      C  2.557883 -1.072766\n",
       "three A -0.618528       NaN\n",
       "      B       NaN  0.198194\n",
       "      C -0.841579       NaN\n",
       "two   A       NaN -0.800850\n",
       "      B  0.438956       NaN\n",
       "      C       NaN  1.877145"
      ],
      "text/html": "<div>\n<style scoped>\n    .dataframe tbody tr th:only-of-type {\n        vertical-align: middle;\n    }\n\n    .dataframe tbody tr th {\n        vertical-align: top;\n    }\n\n    .dataframe thead th {\n        text-align: right;\n    }\n</style>\n<table border=\"1\" class=\"dataframe\">\n  <thead>\n    <tr style=\"text-align: right;\">\n      <th></th>\n      <th>C</th>\n      <th>bar</th>\n      <th>foo</th>\n    </tr>\n    <tr>\n      <th>A</th>\n      <th>B</th>\n      <th></th>\n      <th></th>\n    </tr>\n  </thead>\n  <tbody>\n    <tr>\n      <th rowspan=\"3\" valign=\"top\">one</th>\n      <th>A</th>\n      <td>0.125151</td>\n      <td>-0.081799</td>\n    </tr>\n    <tr>\n      <th>B</th>\n      <td>-0.751841</td>\n      <td>0.390098</td>\n    </tr>\n    <tr>\n      <th>C</th>\n      <td>2.557883</td>\n      <td>-1.072766</td>\n    </tr>\n    <tr>\n      <th rowspan=\"3\" valign=\"top\">three</th>\n      <th>A</th>\n      <td>-0.618528</td>\n      <td>NaN</td>\n    </tr>\n    <tr>\n      <th>B</th>\n      <td>NaN</td>\n      <td>0.198194</td>\n    </tr>\n    <tr>\n      <th>C</th>\n      <td>-0.841579</td>\n      <td>NaN</td>\n    </tr>\n    <tr>\n      <th rowspan=\"3\" valign=\"top\">two</th>\n      <th>A</th>\n      <td>NaN</td>\n      <td>-0.800850</td>\n    </tr>\n    <tr>\n      <th>B</th>\n      <td>0.438956</td>\n      <td>NaN</td>\n    </tr>\n    <tr>\n      <th>C</th>\n      <td>NaN</td>\n      <td>1.877145</td>\n    </tr>\n  </tbody>\n</table>\n</div>"
     },
     "metadata": {},
     "execution_count": 2
    }
   ],
   "source": [
    "import numpy as np\n",
    "import pandas as pd\n",
    "import testBase as tb\n",
    "\n",
    "\n",
    "df = pd.DataFrame({'A': ['one', 'one', 'two', 'three'] * 3, \n",
    "                    'B': ['A', 'B', 'C'] * 4, \n",
    "                    'C': ['foo', 'foo', 'foo', 'bar', 'bar', 'bar'] * 2,\n",
    "                    'D': np.random.randn(12), \n",
    "                    'E': np.random.randn(12)})\n",
    "\n",
    "tb.myprint(\"原数据\")\n",
    "print(df)\n",
    "\n",
    "tb.myprint(\"透视数据\")\n",
    "pd.pivot_table(df, values='D', index=['A', 'B'], columns=['C'])"
   ]
  },
  {
   "cell_type": "code",
   "execution_count": null,
   "metadata": {},
   "outputs": [],
   "source": []
  }
 ]
}