{
 "metadata": {
  "language_info": {
   "codemirror_mode": {
    "name": "ipython",
    "version": 3
   },
   "file_extension": ".py",
   "mimetype": "text/x-python",
   "name": "python",
   "nbconvert_exporter": "python",
   "pygments_lexer": "ipython3",
   "version": "3.7.5-final"
  },
  "orig_nbformat": 2,
  "kernelspec": {
   "name": "python37564biteb640cb9d7dd4d4685241ed8e7fe2f83",
   "display_name": "Python 3.7.5 64-bit"
  }
 },
 "nbformat": 4,
 "nbformat_minor": 2,
 "cells": [
  {
   "source": [
    "## 说明\n",
    "\n",
    "这是一个Jupyter练习。加载本地数据。\n",
    "\n",
    "DataFrame:二维数据，整个表格，多行多列\n",
    "\n",
    "df.columns 查询列\n",
    "\n",
    "df.index  查询行\n",
    "\n",
    "Series：一维数据，一行或者一列\n",
    "\n",
    "![pandas base](../images/pandas-base-1.png)"
   ],
   "cell_type": "markdown",
   "metadata": {}
  },
  {
   "cell_type": "code",
   "execution_count": null,
   "metadata": {
    "tags": []
   },
   "outputs": [],
   "source": [
    "import numpy as np\n",
    "import pandas as pd\n",
    "import testBase as tb\n",
    "\n",
    "# 指定了索引，如果不指定，索引为：RangeIndex(start=0, stop=4, step=1)\n",
    "s1 = pd.Series([10, 'A', 5.2, 26], index = ['d','b','a','c'])\n",
    "tb.myprint(\"数据列表\")\n",
    "print(s1)\n",
    "\n",
    "tb.myprint(\"数据索引\")\n",
    "print(s1.index)\n",
    "\n",
    "tb.myprint(\"数据\")\n",
    "print(s1.values)\n",
    "\n",
    "tb.myprint(\"查询数据\")\n",
    "print(s1.a)\n",
    "print(type(s1.a))\n",
    "print(s1[['b', 'a']])\n"
   ]
  },
  {
   "source": [
    "数据字典"
   ],
   "cell_type": "markdown",
   "metadata": {}
  },
  {
   "cell_type": "code",
   "execution_count": null,
   "metadata": {
    "tags": []
   },
   "outputs": [],
   "source": [
    "import numpy as np\n",
    "import pandas as pd\n",
    "import testBase as tb\n",
    "\n",
    "sdata = {'ohio':3500,'Texas':72000,'Oregs':16000,'Ggrqg':5000}\n",
    "s1 = pd.Series(sdata)\n",
    "\n",
    "tb.myprint(\"数据列表\")\n",
    "print(s1)"
   ]
  },
  {
   "source": [
    "多个字典序列创建dataframe\n"
   ],
   "cell_type": "markdown",
   "metadata": {}
  },
  {
   "cell_type": "code",
   "execution_count": null,
   "metadata": {
    "tags": []
   },
   "outputs": [],
   "source": [
    "import numpy as np\n",
    "import pandas as pd\n",
    "import testBase as tb\n",
    "\n",
    "data = {\n",
    "    'state':['ofjg','sdfg','werw','wrgwer','rgwg'],\n",
    "    'year':[2000,3000,5000,6000,9000],\n",
    "    'pop':[1.5,1.7,1.6,5.3,3.5]\n",
    "}\n",
    "df = pd.DataFrame(data)\n",
    "\n",
    "tb.myprint(\"数据列表\")\n",
    "print(df)\n",
    "\n",
    "tb.myprint(\"数据一列\")\n",
    "print(df['year'])\n",
    "\n",
    "tb.myprint(\"数据多列\")\n",
    "print(df[['year','pop']])\n",
    "\n",
    "tb.myprint(\"数据最后一列\")\n",
    "print(df.loc[1])"
   ]
  },
  {
   "source": [
    "读取文件，将文件内容转换成dataFrame"
   ],
   "cell_type": "markdown",
   "metadata": {}
  },
  {
   "cell_type": "code",
   "execution_count": null,
   "metadata": {
    "tags": []
   },
   "outputs": [],
   "source": [
    "import numpy as np\n",
    "import pandas as pd\n",
    "import testBase as tb\n",
    "\n",
    "click_series = pd.read_csv(\"D:/wangrun/data/theme_item_pool.csv\")\n",
    "#click_series = pd.read_csv(\"D:/wangrun/data/theme_click_log.csv\", sep = \",\", header = 0)\n",
    "tb.myprint(\"查看前几行\")\n",
    "print(click_series.head())\n",
    "\n",
    "tb.myprint(\"查看后几行\")\n",
    "print(click_series.tail(10))\n",
    "\n",
    "tb.myprint(\"查看数据的形状，返回（行数、列数）\")\n",
    "print(click_series.shape)\n",
    "\n",
    "tb.myprint(\"查看列\")\n",
    "print(click_series.columns)\n",
    "\n",
    "tb.myprint(\"查看索引\")\n",
    "print(click_series.index)\n",
    "\n",
    "tb.myprint(\"查看每一列的数据类型\")\n",
    "print(click_series.dtypes)"
   ]
  },
  {
   "source": [
    "## 连接MySQL\n",
    "\n",
    "看例子"
   ],
   "cell_type": "markdown",
   "metadata": {}
  },
  {
   "cell_type": "code",
   "execution_count": null,
   "metadata": {},
   "outputs": [],
   "source": [
    "import pymysql\n",
    "import numpy as np\n",
    "import pandas as pd\n",
    "import testBase as tb\n",
    "\n",
    "conn = pymysql.connect(\n",
    "         host = '192.168.101.30',\n",
    "         user = 'root',\n",
    "         password = 'Siw892%we72N',\n",
    "         database = 'test',\n",
    "         charset = 'utf8'\n",
    ")\n",
    "df_1 = pd.read_sql(\"select * from realtime_match_online;\", con=conn)\n",
    "print(df_1)"
   ]
  },
  {
   "cell_type": "code",
   "execution_count": null,
   "metadata": {},
   "outputs": [],
   "source": []
  }
 ]
}