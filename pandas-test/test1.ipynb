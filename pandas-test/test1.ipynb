{
 "metadata": {
  "language_info": {
   "codemirror_mode": {
    "name": "ipython",
    "version": 3
   },
   "file_extension": ".py",
   "mimetype": "text/x-python",
   "name": "python",
   "nbconvert_exporter": "python",
   "pygments_lexer": "ipython3",
   "version": "3.8.6-candidate"
  },
  "orig_nbformat": 2,
  "kernelspec": {
   "name": "Python 3.8.6 64-bit",
   "display_name": "Python 3.8.6 64-bit",
   "metadata": {
    "interpreter": {
     "hash": "303c080d287e220c3c63f906787cb9d85f6673d58f1005bd533e2199a877cb4d"
    }
   }
  }
 },
 "nbformat": 4,
 "nbformat_minor": 2,
 "cells": [
  {
   "source": [
    "## 说明\n",
    "\n",
    "这是一个Jupyter练习。加载本地数据。\n",
    "\n",
    "DataFrame:二维数据，整个表格，多行多列\n",
    "\n",
    "df.columns 查询列\n",
    "\n",
    "df.index  查询行\n",
    "\n",
    "Series：一维数据，一行或者一列\n",
    "\n",
    "![pandas base](../images/pandas-base-1.png)"
   ],
   "cell_type": "markdown",
   "metadata": {}
  },
  {
   "cell_type": "code",
   "execution_count": null,
   "metadata": {
    "tags": []
   },
   "outputs": [],
   "source": [
    "import numpy as np\n",
    "import pandas as pd\n",
    "import testBase as tb\n",
    "\n",
    "# 指定了索引，如果不指定，索引为：RangeIndex(start=0, stop=4, step=1)\n",
    "s1 = pd.Series([10, 'A', 5.2, 26], index = ['d','b','a','c'])\n",
    "tb.myprint(\"数据列表\")\n",
    "print(s1)\n",
    "\n",
    "tb.myprint(\"数据索引\")\n",
    "print(s1.index)\n",
    "\n",
    "tb.myprint(\"数据\")\n",
    "print(s1.values)\n",
    "\n",
    "tb.myprint(\"查询数据\")\n",
    "print(s1.a)\n",
    "print(type(s1.a))\n",
    "print(s1[['b', 'a']])\n"
   ]
  },
  {
   "source": [
    "数据字典"
   ],
   "cell_type": "markdown",
   "metadata": {}
  },
  {
   "cell_type": "code",
   "execution_count": null,
   "metadata": {
    "tags": []
   },
   "outputs": [],
   "source": [
    "import numpy as np\n",
    "import pandas as pd\n",
    "import testBase as tb\n",
    "\n",
    "sdata = {'ohio':3500,'Texas':72000,'Oregs':16000,'Ggrqg':5000}\n",
    "s1 = pd.Series(sdata)\n",
    "\n",
    "tb.myprint(\"数据列表\")\n",
    "print(s1)"
   ]
  },
  {
   "source": [
    "多个字典序列创建dataframe\n"
   ],
   "cell_type": "markdown",
   "metadata": {}
  },
  {
   "cell_type": "code",
   "execution_count": null,
   "metadata": {
    "tags": []
   },
   "outputs": [],
   "source": [
    "import numpy as np\n",
    "import pandas as pd\n",
    "import testBase as tb\n",
    "\n",
    "data = {\n",
    "    'state':['ofjg','sdfg','werw','wrgwer','rgwg'],\n",
    "    'year':[2000,3000,5000,6000,9000],\n",
    "    'pop':[1.5,1.7,1.6,5.3,3.5]\n",
    "}\n",
    "df = pd.DataFrame(data)\n",
    "\n",
    "tb.myprint(\"数据列表\")\n",
    "print(df)\n",
    "\n",
    "tb.myprint(\"数据一列\")\n",
    "print(df['year'])\n",
    "\n",
    "tb.myprint(\"数据多列\")\n",
    "print(df[['year','pop']])\n",
    "\n",
    "tb.myprint(\"数据最后一列\")\n",
    "print(df.loc[1])"
   ]
  },
  {
   "source": [
    "读取文件，将文件内容转换成dataFrame"
   ],
   "cell_type": "markdown",
   "metadata": {}
  },
  {
   "cell_type": "code",
   "execution_count": 3,
   "metadata": {
    "tags": []
   },
   "outputs": [
    {
     "output_type": "stream",
     "name": "stdout",
     "text": "  \n============== 查看前几行 ==============\n  \n         theme_id                           item_id\n0  33900000000001  005a8c5c4d469d9bba1e91cf0f88fbf0\n1  33900000000001  00e4fa983389ba6c976cc8fda129a22b\n2  33900000000001  026278cda03349536901d54fa2915d18\n3  33900000000001  0302c14b47850c106e278397f8e22ba7\n4  33900000000001  032ade0504d79f525ec1c77e1133768a\n  \n============== 查看后几行 ==============\n  \n               theme_id                           item_id\n1376327  33901111111110  fbe54a921b4a84d072393f613b9e2ae7\n1376328  33901111111110  fc89f7fecb20dc460cf7e32b1d7cfa34\n1376329  33901111111110  fcab64a2859555bd15493e5595e91883\n1376330  33901111111110  fcacfa26e029ad7843ff8074eabbb7cf\n1376331  33901111111110  fd676126ef7b031a4d4a80db0c0da363\n1376332  33901111111110  fdf568f9844fdb2b34cd4dee2e47eb6a\n1376333  33901111111110  fee313579a551d5cee0505c999504f61\n1376334  33901111111110  ff2508dbc3efb6c3931bbf884afa3dbc\n1376335  33901111111110  ffa89684273965602d68a7bd2e12d51a\n1376336  33901111111110  ffbdb04a12b1f1bb1947a3e1fdc29ce2\n  \n============== 查看数据的形状，返回（行数、列数） ==============\n  \n(1376337, 2)\n  \n============== 查看列名列表 ==============\n  \nIndex(['theme_id', 'item_id'], dtype='object')\n  \n============== 查看索引列 ==============\n  \nRangeIndex(start=0, stop=1376337, step=1)\n  \n============== 查看每一列的数据类型 ==============\n  \ntheme_id     int64\nitem_id     object\ndtype: object\n"
    }
   ],
   "source": [
    "import numpy as np\n",
    "import pandas as pd\n",
    "import testBase as tb\n",
    "\n",
    "click_series = pd.read_csv(\"D:/wangrun/data/theme_item_pool.csv\")\n",
    "#click_series = pd.read_csv(\"D:/wangrun/data/theme_click_log.csv\", sep = \",\", header = 0)\n",
    "tb.myprint(\"查看前几行\")\n",
    "print(click_series.head())\n",
    "\n",
    "tb.myprint(\"查看后几行\")\n",
    "print(click_series.tail(10))\n",
    "\n",
    "tb.myprint(\"查看数据的形状，返回（行数、列数）\")\n",
    "print(click_series.shape)\n",
    "\n",
    "tb.myprint(\"查看列\")\n",
    "print(click_series.columns)\n",
    "\n",
    "tb.myprint(\"查看索引\")\n",
    "print(click_series.index)\n",
    "\n",
    "tb.myprint(\"查看每一列的数据类型\")\n",
    "print(click_series.dtypes)"
   ]
  },
  {
   "source": [
    "## 连接MySQL\n",
    "\n",
    "看例子"
   ],
   "cell_type": "markdown",
   "metadata": {}
  },
  {
   "cell_type": "code",
   "execution_count": null,
   "metadata": {},
   "outputs": [],
   "source": [
    "import pymysql\n",
    "import numpy as np\n",
    "import pandas as pd\n",
    "import testBase as tb\n",
    "\n",
    "conn = pmysql.connect(\n",
    "         host = '127.0.0.1',\n",
    "         user = 'root',\n",
    "         password = '123456',\n",
    "         database = 'test',\n",
    "         charest = 'utf8'\n",
    ")\n",
    "mysql_page = pd.read_sql(\"select * from 表名\", con=conn)\n",
    "print(mysql_page)"
   ]
  }
 ]
}