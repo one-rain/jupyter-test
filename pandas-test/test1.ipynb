{
 "metadata": {
  "language_info": {
   "codemirror_mode": {
    "name": "ipython",
    "version": 3
   },
   "file_extension": ".py",
   "mimetype": "text/x-python",
   "name": "python",
   "nbconvert_exporter": "python",
   "pygments_lexer": "ipython3",
   "version": "3.8.6-candidate"
  },
  "orig_nbformat": 2,
  "kernelspec": {
   "name": "Python 3.8.6 64-bit",
   "display_name": "Python 3.8.6 64-bit",
   "metadata": {
    "interpreter": {
     "hash": "303c080d287e220c3c63f906787cb9d85f6673d58f1005bd533e2199a877cb4d"
    }
   }
  }
 },
 "nbformat": 4,
 "nbformat_minor": 2,
 "cells": [
  {
   "source": [
    "## 说明\n",
    "\n",
    "这是一个Jupyter练习。加载本地数据。\n",
    "\n",
    "DataFrame:二维数据，整个表格，多行多列\n",
    "\n",
    "df.columns 查询列\n",
    "\n",
    "df.index  查询行\n",
    "\n",
    "Series：一维数据，一行或者一列\n",
    "\n",
    "![pandas base](../images/pandas-base-1.png)"
   ],
   "cell_type": "markdown",
   "metadata": {}
  },
  {
   "cell_type": "code",
   "execution_count": 12,
   "metadata": {
    "tags": []
   },
   "outputs": [
    {
     "output_type": "stream",
     "name": "stdout",
     "text": "============== 数据列表 ==============\n\nd     10\nb      A\na    5.2\nc     26\ndtype: object\n============== 数据索引 ==============\n\nIndex(['d', 'b', 'a', 'c'], dtype='object')\n============== 数据 ==============\n\n[10 'A' 5.2 26]\n============== 查询数据 ==============\n\n5.2\n<class 'float'>\nb      A\na    5.2\ndtype: object\n"
    }
   ],
   "source": [
    "import numpy as np\n",
    "import pandas as pd\n",
    "import testBase as tb\n",
    "\n",
    "# 指定了索引，如果不指定，索引为：RangeIndex(start=0, stop=4, step=1)\n",
    "s1 = pd.Series([10, 'A', 5.2, 26], index = ['d','b','a','c'])\n",
    "tb.myprint(\"数据列表\")\n",
    "print(s1)\n",
    "\n",
    "tb.myprint(\"数据索引\")\n",
    "print(s1.index)\n",
    "\n",
    "tb.myprint(\"数据\")\n",
    "print(s1.values)\n",
    "\n",
    "tb.myprint(\"查询数据\")\n",
    "print(s1.a)\n",
    "print(type(s1.a))\n",
    "print(s1[['b', 'a']])\n"
   ]
  },
  {
   "source": [
    "数据字典"
   ],
   "cell_type": "markdown",
   "metadata": {}
  },
  {
   "cell_type": "code",
   "execution_count": 13,
   "metadata": {
    "tags": []
   },
   "outputs": [
    {
     "output_type": "stream",
     "name": "stdout",
     "text": "============== 数据列表 ==============\n\nohio      3500\nTexas    72000\nOregs    16000\nGgrqg     5000\ndtype: int64\n"
    }
   ],
   "source": [
    "import numpy as np\n",
    "import pandas as pd\n",
    "import testBase as tb\n",
    "\n",
    "sdata = {'ohio':3500,'Texas':72000,'Oregs':16000,'Ggrqg':5000}\n",
    "s1 = pd.Series(sdata)\n",
    "\n",
    "tb.myprint(\"数据列表\")\n",
    "print(s1)"
   ]
  },
  {
   "source": [
    "多个字典序列创建dataframe\n"
   ],
   "cell_type": "markdown",
   "metadata": {}
  },
  {
   "cell_type": "code",
   "execution_count": 14,
   "metadata": {
    "tags": []
   },
   "outputs": [
    {
     "output_type": "stream",
     "name": "stdout",
     "text": "============== 数据列表 ==============\n\n    state  year  pop\n0    ofjg  2000  1.5\n1    sdfg  3000  1.7\n2    werw  5000  1.6\n3  wrgwer  6000  5.3\n4    rgwg  9000  3.5\n============== 数据一列 ==============\n\n0    2000\n1    3000\n2    5000\n3    6000\n4    9000\nName: year, dtype: int64\n============== 数据多列 ==============\n\n   year  pop\n0  2000  1.5\n1  3000  1.7\n2  5000  1.6\n3  6000  5.3\n4  9000  3.5\n============== 数据最后一列 ==============\n\nstate    sdfg\nyear     3000\npop       1.7\nName: 1, dtype: object\n"
    }
   ],
   "source": [
    "import numpy as np\n",
    "import pandas as pd\n",
    "import testBase as tb\n",
    "\n",
    "data = {\n",
    "    'state':['ofjg','sdfg','werw','wrgwer','rgwg'],\n",
    "    'year':[2000,3000,5000,6000,9000],\n",
    "    'pop':[1.5,1.7,1.6,5.3,3.5]\n",
    "}\n",
    "df = pd.DataFrame(data)\n",
    "\n",
    "tb.myprint(\"数据列表\")\n",
    "print(df)\n",
    "\n",
    "tb.myprint(\"数据一列\")\n",
    "print(df['year'])\n",
    "\n",
    "tb.myprint(\"数据多列\")\n",
    "print(df[['year','pop']])\n",
    "\n",
    "tb.myprint(\"数据最后一列\")\n",
    "print(df.loc[1])"
   ]
  },
  {
   "source": [
    "读取文件，将文件内容转换成dataFrame"
   ],
   "cell_type": "markdown",
   "metadata": {}
  },
  {
   "cell_type": "code",
   "execution_count": 3,
   "metadata": {
    "tags": []
   },
   "outputs": [
    {
     "output_type": "stream",
     "name": "stdout",
     "text": "============== 查看前几行 ==============\n\n============== 查看后几行 ==============\n\n============== 查看数据的形状，返回（行数、列数） ==============\n\n============== 查看列名列表 ==============\n\n============== 查看索引列 ==============\n\n============== 查看每一列的数据类型 ==============\n\n"
    },
    {
     "output_type": "execute_result",
     "data": {
      "text/plain": "theme_id     int64\nitem_id     object\ndtype: object"
     },
     "metadata": {},
     "execution_count": 3
    }
   ],
   "source": [
    "import numpy as np\n",
    "import pandas as pd\n",
    "import testBase as tb\n",
    "\n",
    "click_series = pd.read_csv(\"D:/wangrun/data/theme_item_pool.csv\")\n",
    "#click_series = pd.read_csv(\"D:/wangrun/data/theme_click_log.csv\", sep = \",\", header = 0)\n",
    "tb.myprint(\"查看前几行\")\n",
    "click_series.head() \n",
    "\n",
    "tb.myprint(\"查看后几行\")\n",
    "click_series.tail(10)\n",
    "\n",
    "tb.myprint(\"查看数据的形状，返回（行数、列数）\")\n",
    "click_series.shape\n",
    "\n",
    "tb.myprint(\"查看列名列表\")\n",
    "click_series.columns \n",
    "\n",
    "tb.myprint(\"查看索引列\")\n",
    "click_series.index\n",
    "\n",
    "tb.myprint(\"查看每一列的数据类型\")\n",
    "click_series.dtypes"
   ]
  },
  {
   "source": [
    "## 连接MySQL\n",
    "\n",
    "看例子"
   ],
   "cell_type": "markdown",
   "metadata": {}
  },
  {
   "cell_type": "code",
   "execution_count": null,
   "metadata": {},
   "outputs": [],
   "source": [
    "import numpy as np\n",
    "import pandas as pd\n",
    "import testBase as tb\n",
    "\n",
    "conn = pmysql.connect(\n",
    "         host = '127.0.0.1',\n",
    "         user = 'root',\n",
    "         password = '123456',\n",
    "         database = 'test',\n",
    "         charest = 'utf8'\n",
    ")\n",
    "mysql_page = pd.read_sql(\"select * from 表名\",con=conn)\n",
    "print(mysql_page)"
   ]
  }
 ]
}