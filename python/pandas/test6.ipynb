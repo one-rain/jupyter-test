{
 "cells": [
  {
   "cell_type": "code",
   "execution_count": null,
   "metadata": {},
   "outputs": [],
   "source": [
    "### 可视化 "
   ]
  },
  {
   "cell_type": "code",
   "execution_count": null,
   "metadata": {},
   "outputs": [],
   "source": [
    "import numpy as np\n",
    "import pandas as pd\n",
    "import matplotlib.pyplot as plt\n",
    "import sys\n",
    "import os\n",
    "\n",
    "current_directory = os.path.dirname(os.path.abspath('__file__'))\n",
    "sys.path.append(current_directory)\n",
    "\n",
    "from base import testBase as tb\n",
    "\n",
    "ts = pd.Series(np.random.randn(1000), index=pd.date_range('1/1/2000', periods=1000))\n",
    "\n",
    "tb.myprint(\"原数据\")\n",
    "print(ts)\n",
    "\n",
    "tb.myprint(\"累计计算后的数据\")\n",
    "ts = ts.cumsum()\n",
    "print(ts)\n",
    "\n",
    "tb.myprint(\"可视化\")\n",
    "ts.plot()\n",
    "\n",
    "\n",
    "df = pd.DataFrame(np.random.randn(1000, 4), index=ts.index, columns=['A', 'B', 'C', 'D'])\n",
    "tb.myprint(\"原数据\")\n",
    "print(df)\n",
    "\n",
    "df = df.cumsum()\n",
    "tb.myprint(\"绘制所有带标签的列\")\n",
    "plt.figure()\n",
    "df.plot()\n",
    "plt.legend(loc='best')\n",
    "\n",
    "\n",
    "\n"
   ]
  },
  {
   "cell_type": "code",
   "execution_count": null,
   "metadata": {},
   "outputs": [],
   "source": []
  }
 ],
 "metadata": {
  "kernelspec": {
   "display_name": "Python 3.9.11 64-bit",
   "language": "python",
   "name": "python3"
  },
  "language_info": {
   "codemirror_mode": {
    "name": "ipython",
    "version": 3
   },
   "file_extension": ".py",
   "mimetype": "text/x-python",
   "name": "python",
   "nbconvert_exporter": "python",
   "pygments_lexer": "ipython3",
   "version": "3.9.11"
  },
  "orig_nbformat": 2,
  "vscode": {
   "interpreter": {
    "hash": "21eeb8f6222bdb89299a6f828f28705ee2913d2e8fa467e32ca269c443e0d8dd"
   }
  }
 },
 "nbformat": 4,
 "nbformat_minor": 2
}
