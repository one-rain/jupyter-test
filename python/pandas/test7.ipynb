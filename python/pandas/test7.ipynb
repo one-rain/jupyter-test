{
 "cells": [
  {
   "cell_type": "code",
   "execution_count": null,
   "metadata": {},
   "outputs": [],
   "source": [
    "import pandas as pd\n",
    "import numpy as np\n",
    "\n",
    "for i in range(10):\n",
    "    print(i)\n",
    "\n",
    "print('------------------------------------------')\n",
    "\n",
    "s = pd.Series([0, 1, 4, 9, 16, 25], name='Squares')\n",
    "print(s)"
   ]
  },
  {
   "cell_type": "code",
   "execution_count": null,
   "metadata": {},
   "outputs": [],
   "source": [
    "#将图片内嵌在交互窗口，而不是弹出一个图片窗口\n",
    "%matplotlib inline \n",
    "import matplotlib.pyplot as plt\n",
    "import numpy as np\n",
    " \n",
    "x = np.arange(20)\n",
    "y = x**2\n",
    " \n",
    "plt.plot(x, y)\n",
    "#下面行不写会出现 [<matplotlib.lines.Line2D at 0x111814390>] 字样\n",
    "plt.show()"
   ]
  },
  {
   "cell_type": "code",
   "execution_count": null,
   "metadata": {},
   "outputs": [],
   "source": []
  }
 ],
 "metadata": {
  "kernelspec": {
   "display_name": "Python 3.9.11 64-bit",
   "language": "python",
   "name": "python3"
  },
  "language_info": {
   "codemirror_mode": {
    "name": "ipython",
    "version": 3
   },
   "file_extension": ".py",
   "mimetype": "text/x-python",
   "name": "python",
   "nbconvert_exporter": "python",
   "pygments_lexer": "ipython3",
   "version": "3.9.11"
  },
  "vscode": {
   "interpreter": {
    "hash": "21eeb8f6222bdb89299a6f828f28705ee2913d2e8fa467e32ca269c443e0d8dd"
   }
  }
 },
 "nbformat": 4,
 "nbformat_minor": 4
}
