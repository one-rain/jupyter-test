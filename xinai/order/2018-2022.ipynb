{
 "cells": [
  {
   "cell_type": "code",
   "execution_count": null,
   "id": "30971878-bc2f-46c8-9c09-63ea4d0d714d",
   "metadata": {},
   "outputs": [],
   "source": [
    "%matplotlib inline \n",
    "import matplotlib.pyplot as plt\n",
    "import numpy as np\n",
    "import pandas as pd\n",
    "import sys\n",
    "import os\n",
    "\n",
    "#current_directory = os.path.dirname(os.path.abspath('__file__'))\n",
    "#root_path = os.path.abspath(os.path.dirname(current_directory) + os.path.sep + \".\")\n",
    "#sys.path.append(root_path)\n",
    "\n",
    "def myprint(msg):\n",
    "    print(\"  \")\n",
    "    print(\"============== %s ==============\" % msg)\n",
    "    print(\"  \")\n",
    "\n",
    "# 大文件，需要分块读取\n",
    "reader = pd.read_csv('D:/data/sport/user_order_2018-2022.csv', sep='\\t', chunksize=100000, encoding='utf8')\n",
    "# pf = pd.read_csv('D:/data/sport/user_order_2018-2022.csv')\n",
    "   \n",
    "dfs = []\n",
    "for chunk in reader:\n",
    "    #print(type(chunk))\n",
    "    df1 = chunk['order_status']=='E'\n",
    "    print(chunk[df1][['season', 'company', 'user_id', 'pay_amount', 'league_type_name']])\n",
    "    #chunk[['season', 'company', 'user_id', 'pay_amount', 'league_type_name', 'order_status']]\n",
    "    \n",
    "# 将块拼接为pandas dataFrame格式\n",
    "#df_ac = pd.concat(chunk, ignore_index=True)\n",
    "\n"
   ]
  }
 ],
 "metadata": {
  "kernelspec": {
   "display_name": "Python 3 (ipykernel)",
   "language": "python",
   "name": "python3"
  },
  "language_info": {
   "codemirror_mode": {
    "name": "ipython",
    "version": 3
   },
   "file_extension": ".py",
   "mimetype": "text/x-python",
   "name": "python",
   "nbconvert_exporter": "python",
   "pygments_lexer": "ipython3",
   "version": "3.9.11"
  }
 },
 "nbformat": 4,
 "nbformat_minor": 5
}
